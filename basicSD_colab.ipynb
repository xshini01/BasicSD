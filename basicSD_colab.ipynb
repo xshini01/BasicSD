{
  "cells": [
    {
      "cell_type": "markdown",
      "metadata": {
        "id": "view-in-github",
        "colab_type": "text"
      },
      "source": [
        "<a href=\"https://colab.research.google.com/github/xshini01/BasicSD/blob/main/basicSD_colab.ipynb\" target=\"_parent\"><img src=\"https://colab.research.google.com/assets/colab-badge.svg\" alt=\"Open In Colab\"/></a>"
      ]
    },
    {
      "cell_type": "markdown",
      "metadata": {
        "id": "r39fqps4-c19"
      },
      "source": [
        "**Basic Stable Diffusion**\n",
        "\n",
        "***support SDXL model (beta)***\n",
        "\n",
        "**by Xshini/KZR**"
      ]
    },
    {
      "cell_type": "code",
      "execution_count": null,
      "metadata": {
        "id": "ADQcIVgc_DAh",
        "cellView": "form"
      },
      "outputs": [],
      "source": [
        "# @title **SETUP**\n",
        "# @markdown ******\n",
        "\n",
        "# @markdown ***Run this and wait for the public url !!!***\n",
        "\n",
        "# @markdown Note:\n",
        "\n",
        "# @markdown for the sdxl model, only load model only once because the google colab free ram gpu is still not enough,\n",
        "\n",
        "# @markdown if you want to change the sdxl model, do “Disconnect and delete runtime” in colab and then run it again.\n",
        "# @markdown ******\n",
        "\n",
        "!git clone https://github.com/xshini01/BasicSD.git\n",
        "%cd BasicSD\n",
        "!pip install -r requirements.txt -q\n",
        "!python main.py --share"
      ]
    }
  ],
  "metadata": {
    "accelerator": "GPU",
    "colab": {
      "provenance": [],
      "private_outputs": true,
      "gpuType": "T4",
      "include_colab_link": true
    },
    "kernelspec": {
      "display_name": "Python 3",
      "name": "python3"
    },
    "language_info": {
      "name": "python"
    }
  },
  "nbformat": 4,
  "nbformat_minor": 0
}